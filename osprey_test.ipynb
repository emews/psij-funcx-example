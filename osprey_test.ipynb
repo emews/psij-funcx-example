{
 "cells": [
  {
   "cell_type": "code",
   "execution_count": 1,
   "id": "bc7124ca",
   "metadata": {},
   "outputs": [
    {
     "name": "stdout",
     "output_type": "stream",
     "text": [
      "Python version :  3.9.13 (main, Oct 13 2022, 16:12:30) \n",
      "[Clang 12.0.0 ]\n",
      "FuncX version :  1.0.4\n",
      "Psij version:  0.1.0.post1\n"
     ]
    }
   ],
   "source": [
    "import funcx\n",
    "import sys\n",
    "import psij\n",
    "\n",
    "print(\"Python version : \", sys.version)\n",
    "print(\"FuncX version : \", funcx.__version__)\n",
    "print(\"Psij version: \", psij.__version__)"
   ]
  },
  {
   "cell_type": "code",
   "execution_count": 2,
   "id": "18c1a8e8",
   "metadata": {},
   "outputs": [],
   "source": [
    "theta_ep = \"21d84df5-7eed-4b95-a4de-06b9c2b5a3d0\"\n",
    "midway_ep = \"08e00632-4337-443d-822f-0948992bf0d3\""
   ]
  },
  {
   "cell_type": "code",
   "execution_count": 3,
   "id": "e76f107a",
   "metadata": {},
   "outputs": [],
   "source": [
    "fx = funcx.FuncXExecutor()"
   ]
  },
  {
   "cell_type": "code",
   "execution_count": 4,
   "id": "3872d987",
   "metadata": {},
   "outputs": [],
   "source": [
    "def platinfo():\n",
    "    import platform\n",
    "    return platform.uname()"
   ]
  },
  {
   "cell_type": "code",
   "execution_count": 5,
   "id": "6cbcf3a1",
   "metadata": {},
   "outputs": [],
   "source": [
    "fu_theta = fx.submit(platinfo, endpoint_id=theta_ep)"
   ]
  },
  {
   "cell_type": "code",
   "execution_count": 6,
   "id": "6a77bd96",
   "metadata": {},
   "outputs": [
    {
     "data": {
      "text/plain": [
       "uname_result(system='Linux', node='thetalogin6', release='4.12.14-197.99-default', version='#1 SMP Thu Jul 15 13:52:56 UTC 2021 (a15b9f6)', machine='x86_64')"
      ]
     },
     "execution_count": 6,
     "metadata": {},
     "output_type": "execute_result"
    }
   ],
   "source": [
    "fu_theta.result()"
   ]
  },
  {
   "cell_type": "code",
   "execution_count": null,
   "id": "3dad3300",
   "metadata": {},
   "outputs": [],
   "source": [
    "fu_midway = fx.submit(platinfo, endpoint_id=midway_ep)"
   ]
  },
  {
   "cell_type": "code",
   "execution_count": null,
   "id": "527794bc",
   "metadata": {},
   "outputs": [],
   "source": [
    "fu_midway.result()"
   ]
  },
  {
   "cell_type": "code",
   "execution_count": null,
   "id": "ef021bc3",
   "metadata": {},
   "outputs": [],
   "source": [
    "def submit_job():\n",
    "    import logging\n",
    "    logging.basicConfig(filename='', encoding='utf-8', level=logging.DEBUG)\n",
    "    from psij import Job, JobExecutor, JobSpec, JobAttributes, ResourceSpecV1\n",
    "    \n",
    "    executor = JobExecutor.get_instance(\"slurm\")\n",
    "\n",
    "    job = Job(\n",
    "        JobSpec(\n",
    "            executable=\"/bin/sleep\",\n",
    "            arguments=[\"60\"],\n",
    "            resources=ResourceSpecV1(node_count=1),\n",
    "            attributes=JobAttributes(\n",
    "                queue_name=\"broadwl\",\n",
    "                project_name=\"pi-chard\",\n",
    "            ),\n",
    "        )\n",
    "    )\n",
    "\n",
    "    executor.submit(job)\n",
    "    return job.native_id"
   ]
  },
  {
   "cell_type": "code",
   "execution_count": null,
   "id": "0ab341cd",
   "metadata": {},
   "outputs": [],
   "source": [
    "job_fu = fx.submit(submit_job, endpoint_id=midway_ep)"
   ]
  },
  {
   "cell_type": "code",
   "execution_count": null,
   "id": "1e771b19",
   "metadata": {},
   "outputs": [],
   "source": [
    "print(job_fu.result())\n",
    "status_id = job_fu.result()"
   ]
  },
  {
   "cell_type": "code",
   "execution_count": null,
   "id": "76e67055",
   "metadata": {},
   "outputs": [],
   "source": [
    "def status_job(native_id):\n",
    "    from psij import Job, JobExecutor\n",
    "    import time\n",
    "    \n",
    "    executor = JobExecutor.get_instance(\"slurm\")\n",
    "    job = Job()\n",
    "    executor.attach(job, native_id)\n",
    "    # time.sleep(5)\n",
    "    return job.status"
   ]
  },
  {
   "cell_type": "code",
   "execution_count": null,
   "id": "07260564",
   "metadata": {},
   "outputs": [],
   "source": [
    "status_fu = fx.submit(status_job, status_id, endpoint_id=midway_ep)"
   ]
  },
  {
   "cell_type": "code",
   "execution_count": null,
   "id": "0ab5871c",
   "metadata": {},
   "outputs": [],
   "source": [
    "x = status_fu.result()"
   ]
  },
  {
   "cell_type": "code",
   "execution_count": null,
   "id": "67f8e6e7",
   "metadata": {},
   "outputs": [],
   "source": [
    "str(x)"
   ]
  },
  {
   "cell_type": "code",
   "execution_count": 7,
   "id": "141817a3",
   "metadata": {},
   "outputs": [],
   "source": [
    "def submit_job_cobalt():\n",
    "    from psij import Job, JobExecutor, JobSpec, JobAttributes, ResourceSpecV1\n",
    "    from psij import JobExecutorConfig\n",
    "    \n",
    "    executor = JobExecutor.get_instance(\"cobalt\")\n",
    "\n",
    "    job = Job(\n",
    "        JobSpec(\n",
    "            executable=\"/bin/sleep\",\n",
    "            arguments=[\"60\"],\n",
    "            resources=ResourceSpecV1(node_count=1),\n",
    "            attributes=JobAttributes(\n",
    "                project_name='CSC249ADTR01',\n",
    "                queue_name='debug-cache-quad'\n",
    "            ),\n",
    "        )\n",
    "    )\n",
    "\n",
    "    executor.submit(job)\n",
    "    \n",
    "    return job.native_id"
   ]
  },
  {
   "cell_type": "code",
   "execution_count": 8,
   "id": "d4380e64",
   "metadata": {},
   "outputs": [],
   "source": [
    "job_fu = fx.submit(submit_job_cobalt, endpoint_id=theta_ep)"
   ]
  },
  {
   "cell_type": "code",
   "execution_count": 9,
   "id": "762436a0",
   "metadata": {},
   "outputs": [
    {
     "name": "stdout",
     "output_type": "stream",
     "text": [
      "Job_id :  631081\n"
     ]
    }
   ],
   "source": [
    "job_id = job_fu.result()\n",
    "print(\"Job_id : \", job_id)"
   ]
  },
  {
   "cell_type": "code",
   "execution_count": 10,
   "id": "b30d51f6",
   "metadata": {},
   "outputs": [],
   "source": [
    "def status_job(native_id):\n",
    "    from psij import Job, JobExecutor\n",
    "    import time\n",
    "    \n",
    "    executor = JobExecutor.get_instance(\"cobalt\")\n",
    "    job = Job()\n",
    "    executor.attach(job, native_id)\n",
    "    time.sleep(3)\n",
    "    return job.status"
   ]
  },
  {
   "cell_type": "code",
   "execution_count": 18,
   "id": "3203e685",
   "metadata": {},
   "outputs": [],
   "source": [
    "status_fu = fx.submit(status_job, job_id, endpoint_id=theta_ep)\n",
    "\n",
    "s = status_fu.result()"
   ]
  },
  {
   "cell_type": "code",
   "execution_count": 20,
   "id": "ea95aace",
   "metadata": {},
   "outputs": [
    {
     "name": "stdout",
     "output_type": "stream",
     "text": [
      "JobStatus[COMPLETED, time=1668041628.6803765]\n"
     ]
    }
   ],
   "source": [
    "print(s)"
   ]
  },
  {
   "cell_type": "code",
   "execution_count": 16,
   "id": "36187a41",
   "metadata": {},
   "outputs": [],
   "source": [
    "def cancel_job(native_id):\n",
    "    from psij import Job, JobExecutor\n",
    "    import time\n",
    "    \n",
    "    executor = JobExecutor.get_instance(\"cobalt\")\n",
    "    job = Job()\n",
    "    executor.attach(job, native_id)\n",
    "    time.sleep(3)\n",
    "    return job.cancel()"
   ]
  },
  {
   "cell_type": "code",
   "execution_count": 17,
   "id": "1898d004",
   "metadata": {},
   "outputs": [
    {
     "name": "stdout",
     "output_type": "stream",
     "text": [
      "None\n"
     ]
    }
   ],
   "source": [
    "cancel_fu = fx.submit(cancel_job, job_id, endpoint_id=theta_ep)\n",
    "\n",
    "s = cancel_fu.result()\n",
    "print(s)"
   ]
  }
 ],
 "metadata": {
  "kernelspec": {
   "display_name": "Python 3 (ipykernel)",
   "language": "python",
   "name": "python3"
  },
  "language_info": {
   "codemirror_mode": {
    "name": "ipython",
    "version": 3
   },
   "file_extension": ".py",
   "mimetype": "text/x-python",
   "name": "python",
   "nbconvert_exporter": "python",
   "pygments_lexer": "ipython3",
   "version": "3.9.13"
  }
 },
 "nbformat": 4,
 "nbformat_minor": 5
}
