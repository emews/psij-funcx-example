{
 "cells": [
  {
   "cell_type": "code",
   "execution_count": 1,
   "id": "bc7124ca",
   "metadata": {},
   "outputs": [
    {
     "name": "stdout",
     "output_type": "stream",
     "text": [
      "Python version :  3.9.15 | packaged by conda-forge | (main, Nov 22 2022, 15:55:03) \n",
      "[GCC 10.4.0]\n",
      "FuncX version :  1.0.10\n",
      "Psij version:  0.1.0.post2\n"
     ]
    }
   ],
   "source": [
    "import funcx\n",
    "import sys\n",
    "import psij\n",
    "\n",
    "print(\"Python version : \", sys.version)\n",
    "print(\"FuncX version : \", funcx.__version__)\n",
    "print(\"Psij version: \", psij.__version__)"
   ]
  },
  {
   "cell_type": "code",
   "execution_count": 2,
   "id": "18c1a8e8",
   "metadata": {},
   "outputs": [],
   "source": [
    "theta_ep = \"21d84df5-7eed-4b95-a4de-06b9c2b5a3d0\"\n",
    "midway_ep = \"08e00632-4337-443d-822f-0948992bf0d3\"\n",
    "bebop_ep = \"50906a25-f987-480c-a0dd-6e187c0d0f23\""
   ]
  },
  {
   "cell_type": "code",
   "execution_count": 3,
   "id": "e76f107a",
   "metadata": {},
   "outputs": [
    {
     "name": "stdout",
     "output_type": "stream",
     "text": [
      "Please authenticate with Globus here:\n",
      "------------------------------------\n",
      "https://auth.globus.org/v2/oauth2/authorize?client_id=4cf29807-cf21-49ec-9443-ff9a3fb9f81c&redirect_uri=https%3A%2F%2Fauth.globus.org%2Fv2%2Fweb%2Fauth-code&scope=https%3A%2F%2Fauth.globus.org%2Fscopes%2Ffacd7ccc-c5f4-42aa-916b-a0e270e2c2a9%2Fall+openid+urn%3Aglobus%3Aauth%3Ascope%3Asearch.api.globus.org%3Aall&state=_default&response_type=code&code_challenge=ytjm5eTMzSLtlrpaLjKNl9_H26CjBP3GKIenNO5szwo&code_challenge_method=S256&access_type=offline&prefill_named_grant=jupyter-emews-2dpsij-2dfuncx-2dexample-2d6amhfokr&prompt=login\n",
      "------------------------------------\n",
      "\n"
     ]
    },
    {
     "name": "stdin",
     "output_type": "stream",
     "text": [
      "Enter the resulting Authorization Code here:  8zkMncna6FYmh7XKQ1Qbxy7CENXROe\n"
     ]
    }
   ],
   "source": [
    "fx_theta = funcx.FuncXExecutor(endpoint_id=theta_ep)\n",
    "fx_midway = funcx.FuncXExecutor(endpoint_id=midway_ep)\n",
    "fx_bebop = funcx.FuncXExecutor(endpoint_id=bebop_ep)"
   ]
  },
  {
   "cell_type": "code",
   "execution_count": 4,
   "id": "3872d987",
   "metadata": {},
   "outputs": [],
   "source": [
    "def platinfo():\n",
    "    import platform\n",
    "    return platform.uname()"
   ]
  },
  {
   "cell_type": "code",
   "execution_count": null,
   "id": "6cbcf3a1",
   "metadata": {},
   "outputs": [],
   "source": [
    "fu_theta = fx_theta.submit(platinfo)"
   ]
  },
  {
   "cell_type": "code",
   "execution_count": null,
   "id": "6a77bd96",
   "metadata": {},
   "outputs": [],
   "source": [
    "fu_theta.result()"
   ]
  },
  {
   "cell_type": "code",
   "execution_count": null,
   "id": "3dad3300",
   "metadata": {},
   "outputs": [],
   "source": [
    "fu_midway = fx_midway.submit(platinfo)"
   ]
  },
  {
   "cell_type": "code",
   "execution_count": null,
   "id": "527794bc",
   "metadata": {},
   "outputs": [],
   "source": [
    "fu_midway.result()"
   ]
  },
  {
   "cell_type": "code",
   "execution_count": 5,
   "id": "f2ad987f-047a-4f68-a041-9cbabf74ee2a",
   "metadata": {},
   "outputs": [],
   "source": [
    "fu_bebop = fx_bebop.submit(platinfo)"
   ]
  },
  {
   "cell_type": "code",
   "execution_count": 6,
   "id": "ffc1984c-9798-4aff-a51c-0dc648eb540d",
   "metadata": {},
   "outputs": [
    {
     "data": {
      "text/plain": [
       "uname_result(system='Linux', node='beboplogin1', release='3.10.0-1160.62.1.el7.x86_64', version='#1 SMP Tue Apr 5 16:57:59 UTC 2022', machine='x86_64')"
      ]
     },
     "execution_count": 6,
     "metadata": {},
     "output_type": "execute_result"
    }
   ],
   "source": [
    "fu_bebop.result()"
   ]
  },
  {
   "cell_type": "code",
   "execution_count": null,
   "id": "ef021bc3",
   "metadata": {},
   "outputs": [],
   "source": [
    "def submit_job():\n",
    "    import logging\n",
    "    logging.basicConfig(filename='', encoding='utf-8', level=logging.DEBUG)\n",
    "    from psij import Job, JobExecutor, JobSpec, JobAttributes, ResourceSpecV1\n",
    "    \n",
    "    executor = JobExecutor.get_instance(\"slurm\")\n",
    "\n",
    "    job = Job(\n",
    "        JobSpec(\n",
    "            executable=\"/bin/sleep\",\n",
    "            arguments=[\"60\"],\n",
    "            resources=ResourceSpecV1(node_count=1),\n",
    "            attributes=JobAttributes(\n",
    "                queue_name=\"broadwl\",\n",
    "                project_name=\"pi-chard\",\n",
    "            ),\n",
    "        )\n",
    "    )\n",
    "\n",
    "    executor.submit(job)\n",
    "    return job.native_id"
   ]
  },
  {
   "cell_type": "code",
   "execution_count": null,
   "id": "0ab341cd",
   "metadata": {},
   "outputs": [],
   "source": [
    "job_fu = fx.submit(submit_job, endpoint_id=midway_ep)"
   ]
  },
  {
   "cell_type": "code",
   "execution_count": null,
   "id": "1e771b19",
   "metadata": {},
   "outputs": [],
   "source": [
    "print(job_fu.result())\n",
    "status_id = job_fu.result()"
   ]
  },
  {
   "cell_type": "code",
   "execution_count": 27,
   "id": "76e67055",
   "metadata": {},
   "outputs": [],
   "source": [
    "def status_job(native_id):\n",
    "    from psij import Job, JobExecutor\n",
    "    import time\n",
    "    \n",
    "    executor = JobExecutor.get_instance(\"slurm\")\n",
    "    job = Job()\n",
    "    executor.attach(job, native_id)\n",
    "    time.sleep(5)\n",
    "    return job.status"
   ]
  },
  {
   "cell_type": "code",
   "execution_count": null,
   "id": "07260564",
   "metadata": {},
   "outputs": [],
   "source": [
    "status_fu = fx.submit(status_job, status_id, endpoint_id=midway_ep)"
   ]
  },
  {
   "cell_type": "code",
   "execution_count": null,
   "id": "0ab5871c",
   "metadata": {},
   "outputs": [],
   "source": [
    "x = status_fu.result()"
   ]
  },
  {
   "cell_type": "code",
   "execution_count": null,
   "id": "67f8e6e7",
   "metadata": {},
   "outputs": [],
   "source": [
    "str(x)"
   ]
  },
  {
   "cell_type": "code",
   "execution_count": null,
   "id": "141817a3",
   "metadata": {},
   "outputs": [],
   "source": [
    "def submit_job_cobalt():\n",
    "    from psij import Job, JobExecutor, JobSpec, JobAttributes, ResourceSpecV1\n",
    "    from psij import JobExecutorConfig\n",
    "    \n",
    "    executor = JobExecutor.get_instance(\"cobalt\")\n",
    "\n",
    "    job = Job(\n",
    "        JobSpec(\n",
    "            executable=\"/bin/sleep\",\n",
    "            arguments=[\"60\"],\n",
    "            resources=ResourceSpecV1(node_count=1),\n",
    "            attributes=JobAttributes(\n",
    "                project_name='CSC249ADTR01',\n",
    "                queue_name='debug-cache-quad'\n",
    "            ),\n",
    "        )\n",
    "    )\n",
    "\n",
    "    executor.submit(job)\n",
    "    \n",
    "    return job.native_id"
   ]
  },
  {
   "cell_type": "code",
   "execution_count": null,
   "id": "d4380e64",
   "metadata": {},
   "outputs": [],
   "source": [
    "job_fu = fx_theta.submit(submit_job_cobalt)"
   ]
  },
  {
   "cell_type": "code",
   "execution_count": null,
   "id": "762436a0",
   "metadata": {},
   "outputs": [],
   "source": [
    "job_id = job_fu.result()\n",
    "print(\"Job_id : \", job_id)"
   ]
  },
  {
   "cell_type": "code",
   "execution_count": null,
   "id": "b30d51f6",
   "metadata": {},
   "outputs": [],
   "source": [
    "def status_job(native_id):\n",
    "    from psij import Job, JobExecutor\n",
    "    import time\n",
    "    \n",
    "    executor = JobExecutor.get_instance(\"cobalt\")\n",
    "    job = Job()\n",
    "    executor.attach(job, native_id)\n",
    "    time.sleep(3)\n",
    "    return job.status"
   ]
  },
  {
   "cell_type": "code",
   "execution_count": null,
   "id": "3203e685",
   "metadata": {},
   "outputs": [],
   "source": [
    "status_fu = fx_theta.submit(status_job, job_id)\n",
    "\n",
    "s = status_fu.result()"
   ]
  },
  {
   "cell_type": "code",
   "execution_count": null,
   "id": "ea95aace",
   "metadata": {},
   "outputs": [],
   "source": [
    "print(s)"
   ]
  },
  {
   "cell_type": "code",
   "execution_count": 30,
   "id": "36187a41",
   "metadata": {},
   "outputs": [],
   "source": [
    "def cancel_job(native_id, scheduler=\"cobalt\"):\n",
    "    from psij import Job, JobExecutor\n",
    "    import time\n",
    "    \n",
    "    executor = JobExecutor.get_instance(scheduler)\n",
    "    job = Job()\n",
    "    executor.attach(job, native_id)\n",
    "    time.sleep(3)\n",
    "    return job.cancel()"
   ]
  },
  {
   "cell_type": "code",
   "execution_count": null,
   "id": "1898d004",
   "metadata": {},
   "outputs": [],
   "source": [
    "cancel_fu = fx_theta.submit(cancel_job, job_id)\n",
    "\n",
    "s = cancel_fu.result()\n",
    "print(s)"
   ]
  },
  {
   "cell_type": "code",
   "execution_count": 8,
   "id": "579fe0a7-eb11-4b78-b557-550a794398a2",
   "metadata": {},
   "outputs": [],
   "source": [
    "def submit_job_bebop():\n",
    "    import logging\n",
    "    logging.basicConfig(filename='', encoding='utf-8', level=logging.DEBUG)\n",
    "    from psij import Job, JobExecutor, JobSpec, JobAttributes, ResourceSpecV1\n",
    "    \n",
    "    executor = JobExecutor.get_instance(\"slurm\")\n",
    "\n",
    "    job = Job(\n",
    "        JobSpec(\n",
    "            executable=\"/bin/sleep\",\n",
    "            arguments=[\"60\"],\n",
    "            resources=ResourceSpecV1(node_count=1),\n",
    "            attributes=JobAttributes(\n",
    "                queue_name=\"bdws\",\n",
    "                project_name=\"EMEWS\",\n",
    "            ),\n",
    "        )\n",
    "    )\n",
    "\n",
    "    executor.submit(job)\n",
    "    return job.native_id"
   ]
  },
  {
   "cell_type": "code",
   "execution_count": 31,
   "id": "201b9380-fcb9-4424-8ad3-2d49a2109019",
   "metadata": {},
   "outputs": [],
   "source": [
    "future = fx_bebop.submit(submit_job_bebop)"
   ]
  },
  {
   "cell_type": "code",
   "execution_count": 32,
   "id": "3b91e6a0-2cdc-4099-ad35-1f1b7cb9a89d",
   "metadata": {},
   "outputs": [
    {
     "name": "stdout",
     "output_type": "stream",
     "text": [
      "Job id on bebop: 2719218\n"
     ]
    }
   ],
   "source": [
    "job_id = future.result()\n",
    "print(f\"Job id on bebop: {job_id}\")"
   ]
  },
  {
   "cell_type": "code",
   "execution_count": 33,
   "id": "8590d2bb-3a08-4b7a-8d63-33130d28b535",
   "metadata": {},
   "outputs": [],
   "source": [
    "future = fx_bebop.submit(status_job, job_id)"
   ]
  },
  {
   "cell_type": "code",
   "execution_count": 34,
   "id": "d2808acc-d1c3-401b-b6c3-8feafefd95ff",
   "metadata": {},
   "outputs": [
    {
     "name": "stdout",
     "output_type": "stream",
     "text": [
      "JobStatus[ACTIVE, time=1675876943.47338]\n"
     ]
    }
   ],
   "source": [
    "status = future.result()\n",
    "print(status)"
   ]
  },
  {
   "cell_type": "code",
   "execution_count": 35,
   "id": "1ff47a0f-2d8b-46b9-8c00-3a262baf81e0",
   "metadata": {},
   "outputs": [],
   "source": [
    "future = fx_bebop.submit(cancel_job, job_id, scheduler=\"slurm\")"
   ]
  },
  {
   "cell_type": "code",
   "execution_count": 36,
   "id": "16dab7d4-0e8a-4c52-8a6f-c810ff0a5f67",
   "metadata": {},
   "outputs": [
    {
     "name": "stdout",
     "output_type": "stream",
     "text": [
      "Output from cancel: None\n"
     ]
    }
   ],
   "source": [
    "print(\"Output from cancel:\", future.result())"
   ]
  }
 ],
 "metadata": {
  "kernelspec": {
   "display_name": "Python 3 (ipykernel)",
   "language": "python",
   "name": "python3"
  },
  "language_info": {
   "codemirror_mode": {
    "name": "ipython",
    "version": 3
   },
   "file_extension": ".py",
   "mimetype": "text/x-python",
   "name": "python",
   "nbconvert_exporter": "python",
   "pygments_lexer": "ipython3",
   "version": "3.9.15"
  }
 },
 "nbformat": 4,
 "nbformat_minor": 5
}
